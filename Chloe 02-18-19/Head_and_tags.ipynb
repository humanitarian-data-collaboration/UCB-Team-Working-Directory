{
 "cells": [
  {
   "cell_type": "code",
   "execution_count": 1,
   "metadata": {
    "collapsed": true
   },
   "outputs": [],
   "source": [
    "from hdx.utilities.easy_logging import setup_logging\n",
    "from hdx.hdx_configuration import Configuration\n",
    "from hdx.data.dataset import Dataset\n",
    "import os\n",
    "import numpy as np\n",
    "import pandas as pd"
   ]
  },
  {
   "cell_type": "code",
   "execution_count": 2,
   "metadata": {},
   "outputs": [
    {
     "name": "stdout",
     "output_type": "stream",
     "text": [
      "No logging configuration parameter. Using default.\n",
      "Loading logging configuration from: /anaconda3/lib/python3.6/site-packages/hdx/utilities/logging_configuration.yml\n",
      "INFO - 2019-02-21 02:49:02 - hdx.hdx_configuration - No HDX base configuration parameter. Using default base configuration file: /anaconda3/lib/python3.6/site-packages/hdx/hdx_base_configuration.yml.\n",
      "INFO - 2019-02-21 02:49:02 - hdx.hdx_configuration - Loading HDX base configuration from: /anaconda3/lib/python3.6/site-packages/hdx/hdx_base_configuration.yml\n",
      "INFO - 2019-02-21 02:49:02 - hdx.hdx_configuration - No HDX configuration parameter and no configuration file at default path: /Users/ruochen99/.hdx_configuration.yml.\n",
      "INFO - 2019-02-21 02:49:02 - hdx.hdx_configuration - Read only access to HDX: True\n"
     ]
    },
    {
     "data": {
      "text/plain": [
       "'https://data.humdata.org/'"
      ]
     },
     "execution_count": 2,
     "metadata": {},
     "output_type": "execute_result"
    }
   ],
   "source": [
    "setup_logging()\n",
    "Configuration.create(hdx_site='prod', user_agent='A_Quick_Example', hdx_read_only=True)"
   ]
  },
  {
   "cell_type": "code",
   "execution_count": 3,
   "metadata": {
    "collapsed": true
   },
   "outputs": [],
   "source": [
    "#Check if the dataset has at least 1 resource of the required file type(s).\n",
    "\n",
    "def check_type(dataset, file_types=[]):\n",
    "    temp_dataset = Dataset.read_from_hdx(dataset)\n",
    "    temp_dataset.separate_resources()\n",
    "    if (len(temp_dataset.resources) > 0):\n",
    "        if (len(file_types) > 0):\n",
    "            if (not set(temp_dataset.get_filetypes()).isdisjoint(file_types)): \n",
    "                    return True\n",
    "        else :\n",
    "            return True\n",
    "    return False"
   ]
  },
  {
   "cell_type": "code",
   "execution_count": 4,
   "metadata": {
    "collapsed": true
   },
   "outputs": [],
   "source": [
    "# Check if the dataset is tagged with HXL tag, not provided by HXL\n",
    "\n",
    "def check_organization(dataset):\n",
    "    if dataset.get_organization()['title'] != 'Humanitarian Exchange Language(HXL)':\n",
    "            return True\n",
    "    return False"
   ]
  },
  {
   "cell_type": "code",
   "execution_count": 5,
   "metadata": {
    "collapsed": true
   },
   "outputs": [],
   "source": [
    "# Download one dataset with certain type(s), read it into Dataframe, \n",
    "# add all headers, tags and dataset names to our DataFrame,\n",
    "# and delete the dataset\n",
    "\n",
    "def process_dataset(dataset, file_type, dataframe, download_path, index):\n",
    "    global count\n",
    "# Download one dataset and read it into a DataFrame \n",
    "    if (file_type == None):\n",
    "        url, path = dataset_1.resources[0].download(download_path)\n",
    "        pandas_dataset = pd.read_csv(path)\n",
    "    else:\n",
    "        if (file_type not in dataset.get_filetypes()):\n",
    "            return 'Error: Required file type not in dataset OR dataset does not contain any resources.'\n",
    "        try:\n",
    "            url, path = dataset.resources[dataset.get_filetypes().index(file_type)].download(download_path)\n",
    "            print('Resource URL %s downloaded to %s' % (url, path))\n",
    "            pandas_dataset = pd.read_csv(path, encoding='latin-1')\n",
    "        except:\n",
    "            return 'Unknown error.'\n",
    "     \n",
    "    if \"HXL\" in os.path.basename(path) or \"hxl\" in os.path.basename(path):\n",
    "        return\n",
    "    dataset_df = pandas_dataset.head()\n",
    "    \n",
    "# Add headers and tags to our DataFrame\n",
    "    if len(dataset_df) > 2:\n",
    "        headers = list(dataset_df.columns.values)\n",
    "        tags = list(dataset_df.iloc[0,:])\n",
    "        for i in range(len(headers)):\n",
    "            try:\n",
    "                dic = {'Header': headers[i], 'Tag': tags[i], 'Dataset_name': os.path.basename(path), 'Index': index}\n",
    "                headers_and_tags.loc[len(headers_and_tags)] = dic\n",
    "            except:\n",
    "                print(\"Error: different number of headers and tags\")\n",
    "        count += 1\n",
    "    os.remove(path)\n",
    "    print(\"File Removed!\")\n",
    "    return"
   ]
  },
  {
   "cell_type": "code",
   "execution_count": 6,
   "metadata": {},
   "outputs": [
    {
     "data": {
      "text/plain": [
       "3399"
      ]
     },
     "execution_count": 6,
     "metadata": {},
     "output_type": "execute_result"
    }
   ],
   "source": [
    "# Search for all datasets with HXL tags\n",
    "\n",
    "datasets_HXL = Dataset.search_in_hdx('HXL')\n",
    "len(datasets_HXL)"
   ]
  },
  {
   "cell_type": "code",
   "execution_count": 179,
   "metadata": {
    "collapsed": true
   },
   "outputs": [],
   "source": [
    "# Create a DataFrame for all headers and tags\n",
    "\n",
    "col_names = ['Header', 'Tag', 'Dataset_name', 'Index']\n",
    "headers_and_tags= pd.DataFrame(columns = col_names)"
   ]
  },
  {
   "cell_type": "code",
   "execution_count": 10,
   "metadata": {
    "collapsed": true
   },
   "outputs": [],
   "source": [
    "# Creat a temp DataFrame\n",
    "\n",
    "col_names = ['Header', 'Tag', 'Dataset_name', 'Index']\n",
    "temp = pd.DataFrame(columns = col_names)"
   ]
  },
  {
   "cell_type": "code",
   "execution_count": null,
   "metadata": {
    "collapsed": true
   },
   "outputs": [],
   "source": [
    "\n",
    "for i in range(1000):\n",
    "    process_dataset(datasets_HXL[i], 'CSV', headers_and_tags, './datasets', count)\n"
   ]
  },
  {
   "cell_type": "code",
   "execution_count": 11,
   "metadata": {
    "collapsed": true
   },
   "outputs": [],
   "source": [
    "datasets_HXL_2 = datasets_HXL[1000:1500]"
   ]
  },
  {
   "cell_type": "code",
   "execution_count": null,
   "metadata": {},
   "outputs": [
    {
     "name": "stdout",
     "output_type": "stream",
     "text": [
      "Resource URL http://proxy.hxlstandard.org/data.csv?url=http%3A//popstats.unhcr.org/en/asylum_seekers.hxl&filter01=select&select-query01-01=%23country%2Basylum=Swaziland downloaded to ./datasets/unhcr-asylum-seekers-determination-swz.csv.CSV\n",
      "Error: different number of headers and tags\n",
      "Error: different number of headers and tags\n",
      "Error: different number of headers and tags\n",
      "Error: different number of headers and tags\n",
      "Error: different number of headers and tags\n",
      "Error: different number of headers and tags\n",
      "Error: different number of headers and tags\n",
      "Error: different number of headers and tags\n",
      "Error: different number of headers and tags\n",
      "Error: different number of headers and tags\n",
      "Error: different number of headers and tags\n",
      "Error: different number of headers and tags\n",
      "Error: different number of headers and tags\n",
      "Error: different number of headers and tags\n",
      "File Removed!\n",
      "Resource URL http://proxy.hxlstandard.org/data.csv?url=http%3A//popstats.unhcr.org/en/asylum_seekers.hxl&filter01=select&select-query01-01=%23country%2Basylum=Sweden downloaded to ./datasets/unhcr-asylum-seekers-determination-swe.csv.CSV\n",
      "Error: different number of headers and tags\n",
      "Error: different number of headers and tags\n",
      "Error: different number of headers and tags\n",
      "Error: different number of headers and tags\n",
      "Error: different number of headers and tags\n",
      "Error: different number of headers and tags\n",
      "Error: different number of headers and tags\n",
      "Error: different number of headers and tags\n",
      "Error: different number of headers and tags\n",
      "Error: different number of headers and tags\n",
      "Error: different number of headers and tags\n",
      "Error: different number of headers and tags\n",
      "Error: different number of headers and tags\n",
      "Error: different number of headers and tags\n",
      "File Removed!\n",
      "Resource URL http://proxy.hxlstandard.org/data.csv?url=http%3A//popstats.unhcr.org/en/asylum_seekers.hxl&filter01=select&select-query01-01=%23country%2Basylum=Switzerland downloaded to ./datasets/unhcr-asylum-seekers-determination-che.csv.CSV\n",
      "Error: different number of headers and tags\n",
      "Error: different number of headers and tags\n",
      "Error: different number of headers and tags\n",
      "Error: different number of headers and tags\n",
      "Error: different number of headers and tags\n",
      "Error: different number of headers and tags\n",
      "Error: different number of headers and tags\n",
      "Error: different number of headers and tags\n",
      "Error: different number of headers and tags\n",
      "Error: different number of headers and tags\n",
      "Error: different number of headers and tags\n",
      "Error: different number of headers and tags\n",
      "Error: different number of headers and tags\n",
      "Error: different number of headers and tags\n",
      "File Removed!\n",
      "Resource URL http://proxy.hxlstandard.org/data.csv?url=http%3A//popstats.unhcr.org/en/asylum_seekers.hxl&filter01=select&select-query01-01=%23country%2Basylum=Tajikistan downloaded to ./datasets/unhcr-asylum-seekers-determination-tjk.csv.CSV\n",
      "Error: different number of headers and tags\n",
      "Error: different number of headers and tags\n",
      "Error: different number of headers and tags\n",
      "Error: different number of headers and tags\n",
      "Error: different number of headers and tags\n",
      "Error: different number of headers and tags\n",
      "Error: different number of headers and tags\n",
      "Error: different number of headers and tags\n",
      "Error: different number of headers and tags\n",
      "Error: different number of headers and tags\n",
      "Error: different number of headers and tags\n",
      "Error: different number of headers and tags\n",
      "Error: different number of headers and tags\n",
      "Error: different number of headers and tags\n",
      "File Removed!\n",
      "Resource URL http://proxy.hxlstandard.org/data.csv?url=http%3A//popstats.unhcr.org/en/asylum_seekers.hxl&filter01=select&select-query01-01=%23country%2Basylum=Turks%20and%20Caicos%20Islands downloaded to ./datasets/unhcr-asylum-seekers-determination-tca.csv.CSV\n",
      "Error: different number of headers and tags\n",
      "Error: different number of headers and tags\n",
      "Error: different number of headers and tags\n",
      "Error: different number of headers and tags\n",
      "Error: different number of headers and tags\n",
      "Error: different number of headers and tags\n",
      "Error: different number of headers and tags\n",
      "Error: different number of headers and tags\n",
      "Error: different number of headers and tags\n",
      "Error: different number of headers and tags\n",
      "Error: different number of headers and tags\n",
      "Error: different number of headers and tags\n",
      "Error: different number of headers and tags\n",
      "Error: different number of headers and tags\n",
      "File Removed!\n"
     ]
    }
   ],
   "source": [
    "count = 665\n",
    "for i in range(len(datasets_HXL_2)):\n",
    "    process_dataset(datasets_HXL_2[i], 'CSV', temp, './datasets', count)"
   ]
  },
  {
   "cell_type": "code",
   "execution_count": 183,
   "metadata": {
    "collapsed": true
   },
   "outputs": [],
   "source": [
    "headers_and_tags.to_excel(\"headerandtag.xlsx\")"
   ]
  },
  {
   "cell_type": "code",
   "execution_count": 7,
   "metadata": {},
   "outputs": [
    {
     "ename": "NameError",
     "evalue": "name 'headers_and_tags' is not defined",
     "output_type": "error",
     "traceback": [
      "\u001b[0;31m---------------------------------------------------------------------------\u001b[0m",
      "\u001b[0;31mNameError\u001b[0m                                 Traceback (most recent call last)",
      "\u001b[0;32m<ipython-input-7-fc5d3bb22009>\u001b[0m in \u001b[0;36m<module>\u001b[0;34m()\u001b[0m\n\u001b[0;32m----> 1\u001b[0;31m \u001b[0mheaders_and_tags\u001b[0m\u001b[0;34m\u001b[0m\u001b[0m\n\u001b[0m",
      "\u001b[0;31mNameError\u001b[0m: name 'headers_and_tags' is not defined"
     ]
    }
   ],
   "source": []
  },
  {
   "cell_type": "code",
   "execution_count": null,
   "metadata": {
    "collapsed": true
   },
   "outputs": [],
   "source": []
  }
 ],
 "metadata": {
  "kernelspec": {
   "display_name": "Python 3",
   "language": "python",
   "name": "python3"
  },
  "language_info": {
   "codemirror_mode": {
    "name": "ipython",
    "version": 3
   },
   "file_extension": ".py",
   "mimetype": "text/x-python",
   "name": "python",
   "nbconvert_exporter": "python",
   "pygments_lexer": "ipython3",
   "version": "3.6.3"
  }
 },
 "nbformat": 4,
 "nbformat_minor": 2
}
