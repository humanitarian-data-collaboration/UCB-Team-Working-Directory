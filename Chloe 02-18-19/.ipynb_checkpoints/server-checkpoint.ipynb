{
 "cells": [
  {
   "cell_type": "code",
   "execution_count": 7,
   "metadata": {},
   "outputs": [],
   "source": [
    "from flask import Flask, request, Response\n",
    "from jsonrpcserver import method, dispatch\n",
    "from jsonrpc import JSONRPCResponseManager, dispatcher"
   ]
  },
  {
   "cell_type": "code",
   "execution_count": null,
   "metadata": {
    "collapsed": true
   },
   "outputs": [],
   "source": [
    "#Initialize our server\n",
    "app = Flask(__name__)\n",
    "\n",
    "#getting our trained model\n",
    "model = pickle.load(open(\"tag_model\", \"rb\"))\n",
    "\n",
    "\n",
    "@app.route('/upload', methods=['GET', 'POST'])\n",
    "def upload_file():\n",
    "    if request.method == 'POST':\n",
    "        file = request.files['file']\n",
    "        if file:\n",
    "            original_dataset = file.read()\n",
    "    return predict(original_dataset)\n",
    "\n",
    "#defining a /predict route for post requests\n",
    "@app.route('/predict', methods=['POST'])\n",
    "def predict(original_dataset):\n",
    "    #grab the untagged dataset from the request body\n",
    "    original_dataset = request.get_json()['input']\n",
    "    \n",
    "    #preparing a response object and storing our model's predictions\n",
    "    response = {}\n",
    "    response['predictions'] = model.predict(original_dataset).tolist()\n",
    "    \n",
    "    #returning the response object as json\n",
    "    return flask.jsonify(response)\n"
   ]
  }
 ],
 "metadata": {
  "kernelspec": {
   "display_name": "Python 3",
   "language": "python",
   "name": "python3"
  },
  "language_info": {
   "codemirror_mode": {
    "name": "ipython",
    "version": 3
   },
   "file_extension": ".py",
   "mimetype": "text/x-python",
   "name": "python",
   "nbconvert_exporter": "python",
   "pygments_lexer": "ipython3",
   "version": "3.6.3"
  }
 },
 "nbformat": 4,
 "nbformat_minor": 2
}
