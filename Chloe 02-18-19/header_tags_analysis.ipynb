{
 "cells": [
  {
   "cell_type": "code",
   "execution_count": null,
   "metadata": {
    "collapsed": true
   },
   "outputs": [],
   "source": [
    "import pandas as pd\n",
    "import numpy as np"
   ]
  },
  {
   "cell_type": "code",
   "execution_count": null,
   "metadata": {},
   "outputs": [],
   "source": [
    "headers_tags = pd.read_excel('headers_tags.xlsx')\n",
    "temp = pd.read_excel('headerandtag2.xlsx')\n",
    "headers_tags = headers_tags.append(temp)"
   ]
  },
  {
   "cell_type": "code",
   "execution_count": null,
   "metadata": {},
   "outputs": [],
   "source": [
    "headers_tags_drop = headers_tags.dropna()\n",
    "len(headers_tags_drop)"
   ]
  },
  {
   "cell_type": "code",
   "execution_count": null,
   "metadata": {},
   "outputs": [],
   "source": [
    "headers_tags_drop = headers_tags_drop[headers_tags_drop['Tag'].str.contains('#') == True]\n",
    "headers_tags_total = headers_tags_drop.copy()\n",
    "len(headers_tags_drop)"
   ]
  },
  {
   "cell_type": "code",
   "execution_count": null,
   "metadata": {},
   "outputs": [],
   "source": [
    "# Get rid of the customized tags, only work with the core attributes for now\n",
    "headers_tags_drop = headers_tags_drop[headers_tags_drop['Tag'].str.contains('[x]_', regex = True) == False]"
   ]
  },
  {
   "cell_type": "code",
   "execution_count": null,
   "metadata": {},
   "outputs": [],
   "source": [
    "# Get rid of the extended tags, only work with the core attributes for now\n",
    "headers_tags_drop['Tag'] = headers_tags_drop['Tag'].str.replace('\\+.*', '')"
   ]
  },
  {
   "cell_type": "code",
   "execution_count": null,
   "metadata": {},
   "outputs": [],
   "source": [
    "headers_tags_drop['Tag'].nunique()"
   ]
  },
  {
   "cell_type": "code",
   "execution_count": null,
   "metadata": {},
   "outputs": [],
   "source": [
    "# number of occurance of each tag (core $ extended)\n",
    "\n",
    "tag_frequency = headers_tags_drop['Tag'].value_counts().to_frame()\n",
    "tag_frequency.columns = ['Count']\n",
    "tag_frequency_total = headers_tags_total['Tag'].value_counts().to_frame()\n",
    "tag_frequency_total.columns = ['Count']"
   ]
  },
  {
   "cell_type": "code",
   "execution_count": null,
   "metadata": {
    "scrolled": true
   },
   "outputs": [],
   "source": [
    "headers_tags_simple = headers_tags[['Tag', 'Index']]\n",
    "headers_tags_simple.head()"
   ]
  },
  {
   "cell_type": "code",
   "execution_count": null,
   "metadata": {},
   "outputs": [],
   "source": [
    "headers_tags_simple.loc[:, 'Index_within_file'] = headers_tags_simple.groupby('Index').cumcount()"
   ]
  },
  {
   "cell_type": "code",
   "execution_count": null,
   "metadata": {},
   "outputs": [],
   "source": [
    "headers_tags_simple"
   ]
  }
 ],
 "metadata": {
  "kernelspec": {
   "display_name": "Python 3",
   "language": "python",
   "name": "python3"
  },
  "language_info": {
   "codemirror_mode": {
    "name": "ipython",
    "version": 3
   },
   "file_extension": ".py",
   "mimetype": "text/x-python",
   "name": "python",
   "nbconvert_exporter": "python",
   "pygments_lexer": "ipython3",
   "version": "3.6.3"
  }
 },
 "nbformat": 4,
 "nbformat_minor": 2
}
