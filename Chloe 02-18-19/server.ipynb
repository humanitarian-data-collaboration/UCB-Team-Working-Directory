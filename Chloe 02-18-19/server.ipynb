{
 "cells": [
  {
   "cell_type": "code",
   "execution_count": 1,
   "metadata": {
    "collapsed": true
   },
   "outputs": [],
   "source": [
    "from flask import Flask, redirect, request, render_template, url_for, send_from_directory, make_response\n",
    "from werkzeug.wrappers import Request, Response\n",
    "from werkzeug.serving import run_simple\n",
    "from jsonrpc import JSONRPCResponseManager, dispatcher\n",
    "import os\n",
    "import hashlib\n",
    "import pandas as pd\n",
    "from werkzeug.utils import secure_filename\n",
    "import pickle"
   ]
  },
  {
   "cell_type": "code",
   "execution_count": null,
   "metadata": {
    "collapsed": true
   },
   "outputs": [],
   "source": [
    "UPLOAD_FOLDER = '\\\\Datasets'\n",
    "ALLOWED_EXTENSIONS = set(['csv','txt', 'pdf', 'png', 'jpg', 'jpeg', 'gif'])\n",
    "\n",
    "app = Flask(__name__)\n",
    "app.config['UPLOAD_FOLDER'] = os.path.join(app.instance_path)"
   ]
  },
  {
   "cell_type": "code",
   "execution_count": null,
   "metadata": {
    "collapsed": true
   },
   "outputs": [],
   "source": [
    "def allowed_file(filename):\n",
    "    return '.' in filename and \\\n",
    "           filename.rsplit('.', 1)[1].lower() in ALLOWED_EXTENSIONS \n",
    "    \n",
    "@app.route('/', methods=['GET','POST'])\n",
    "def upload_file():\n",
    "    if request.method == 'POST':\n",
    "        # check if the post request has the file part\n",
    "        if 'file' not in request.files:\n",
    "            flash('No file part')\n",
    "            return redirect(request.url)\n",
    "        file = request.files['file']\n",
    "        # if user does not select file, browser also\n",
    "        # submit an empty part without filename\n",
    "        global file_name = '/tmp/' + file.filename\n",
    "        if file.filename == '':\n",
    "            flash('No selected file')\n",
    "            return redirect(request.url)\n",
    "        if file and allowed_file(file.filename):\n",
    "            filename = secure_filename(file.filename)\n",
    "            df = pd.read_csv(file)\n",
    "            resp = make_response(df.to_csv())\n",
    "            resp.headers[\"Content-Disposition\"] = \"attachment; filename=export.csv\"\n",
    "            resp.headers[\"Content-Type\"] = \"text/csv\"\n",
    "            return resp  \n",
    "\n",
    "    return redirect(url_for('predict'))\n",
    "\n",
    "#getting our trained model\n",
    "model = pickle.load(open(\"tag_model\", \"rb\"))\n",
    "\n",
    "@app.route('/predict', methods=['GET', 'POST'])\n",
    "def predict():\n",
    "    #getting the untagged dataset from the request body\n",
    "    original_dataset = request.get_json()['input']\n",
    "    #use our model to predict tags to each column\n",
    "    prediction = model.predict(original_dataset).tolist()\n",
    "    #setting \n",
    "    response = {}\n",
    "    response['predictions'] = prediction\n",
    "    \n",
    "    return flask.jsonify(response)\n",
    "    \n"
   ]
  },
  {
   "cell_type": "code",
   "execution_count": null,
   "metadata": {
    "collapsed": true
   },
   "outputs": [],
   "source": [
    "\n",
    "#create the route for file uploading\n",
    "# @app.route('/predict', methods=['GET', 'POST'])\n",
    "# def upload_file():\n",
    "#     if request.method == 'POST':\n",
    "#         if 'file' not in request.files:\n",
    "#             flash('No file part')\n",
    "#             return redirect(request.url)\n",
    "#         file = request.files['file']\n",
    "#         if file:\n",
    "#             original_dataset = file.read()\n",
    "#         #preparing a response object and storing our model's predictions\n",
    "#         response = {}\n",
    "#         response['predictions'] = model.predict(original_dataset).tolist()\n",
    "\n",
    "#     #returning the response object as json\n",
    "#     return flask.jsonify(response)    \n"
   ]
  }
 ],
 "metadata": {
  "kernelspec": {
   "display_name": "Python 3",
   "language": "python",
   "name": "python3"
  },
  "language_info": {
   "codemirror_mode": {
    "name": "ipython",
    "version": 3
   },
   "file_extension": ".py",
   "mimetype": "text/x-python",
   "name": "python",
   "nbconvert_exporter": "python",
   "pygments_lexer": "ipython3",
   "version": "3.6.3"
  }
 },
 "nbformat": 4,
 "nbformat_minor": 2
}
