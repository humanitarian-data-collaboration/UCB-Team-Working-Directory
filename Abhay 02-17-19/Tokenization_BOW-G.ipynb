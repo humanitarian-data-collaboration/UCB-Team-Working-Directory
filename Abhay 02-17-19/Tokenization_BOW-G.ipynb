{
 "cells": [
  {
   "cell_type": "code",
   "execution_count": null,
   "metadata": {},
   "outputs": [],
   "source": [
    "from hdx.utilities.easy_logging import setup_logging\n",
    "from hdx.hdx_configuration import Configuration\n",
    "from hdx.data.dataset import Dataset\n",
    "import os\n",
    "import numpy as np\n",
    "import pandas as pd\n",
    "import ast\n",
    "import sklearn\n",
    "import itertools"
   ]
  },
  {
   "cell_type": "code",
   "execution_count": null,
   "metadata": {},
   "outputs": [],
   "source": [
    "setup_logging()\n",
    "Configuration.create(hdx_site='prod', user_agent='A_Quick_Example', hdx_read_only=True)"
   ]
  },
  {
   "cell_type": "code",
   "execution_count": null,
   "metadata": {},
   "outputs": [],
   "source": [
    "data_by_tag = pd.read_csv('data_by_tag.csv')\n",
    "data_by_tag"
   ]
  },
  {
   "cell_type": "code",
   "execution_count": null,
   "metadata": {},
   "outputs": [],
   "source": [
    "#data_by_tag['Data']=data_by_tag['Data'].replace(\":\",'-',regex=True).replace(\"[+]\",'-',regex=True)\n",
    "#data_by_tag"
   ]
  },
  {
   "cell_type": "code",
   "execution_count": null,
   "metadata": {},
   "outputs": [],
   "source": [
    "def word_extraction(dataframe,column,row):\n",
    "    ignore = ['nan']\n",
    "    words = ast.literal_eval(dataframe[column].iloc[row])\n",
    "    no_white = [i.lstrip() for i in words]\n",
    "    #divide_space = [i.split() for i in no_white]\n",
    "    cleaned_text = [w.lower() for w in no_white if w not in ignore]\n",
    "    return cleaned_text"
   ]
  },
  {
   "cell_type": "code",
   "execution_count": null,
   "metadata": {},
   "outputs": [],
   "source": [
    "#This line was just to test the word_extraction function I build\n",
    "#word_extraction(data_by_tag,'Data',14)"
   ]
  },
  {
   "cell_type": "code",
   "execution_count": null,
   "metadata": {},
   "outputs": [],
   "source": [
    "#Made the above function have a more general input to work with different data_by_tag files\n",
    "def word_extract(row):\n",
    "    ignore = ['nan']\n",
    "    words = ast.literal_eval(row)\n",
    "    no_white = [i.lstrip() for i in words]\n",
    "    #divide_space = [i.split() for i in no_white]\n",
    "    cleaned_text = [w.lower() for w in no_white if w not in ignore]\n",
    "    return cleaned_text"
   ]
  },
  {
   "cell_type": "code",
   "execution_count": null,
   "metadata": {},
   "outputs": [],
   "source": [
    "#Converts the list of data for each tag into one string, and then combines these strings into a single list\n",
    "long_string = []\n",
    "for i in data_by_tag['Data']:\n",
    "    result_by_tag = word_extract(i)\n",
    "    holder_list = ' '.join(result_by_tag)\n",
    "    long_string.append(holder_list)\n",
    "    \n",
    "long_string\n"
   ]
  },
  {
   "cell_type": "code",
   "execution_count": null,
   "metadata": {},
   "outputs": [],
   "source": [
    "#This was some initial work on building the above for loop\n",
    "#full_list = []\n",
    "#for row in data_by_tag['Data']:\n",
    "    #holder_list = [' '.join(row)]\n",
    "    #full_list.append(holder_list)\n",
    "\n",
    "\n",
    "#full_list"
   ]
  },
  {
   "cell_type": "code",
   "execution_count": null,
   "metadata": {},
   "outputs": [],
   "source": [
    "def tokenize(dataframe):\n",
    "    words = []\n",
    "    for i in range(len(dataframe)):\n",
    "        w = word_extraction(dataframe,'Data', i)\n",
    "        words.extend(w)\n",
    "\n",
    "#tokenize(data_by_tag)\n",
    "#Having SyntaxError with \"EOL while scanning string literal\""
   ]
  },
  {
   "cell_type": "code",
   "execution_count": null,
   "metadata": {},
   "outputs": [],
   "source": [
    "def generate_comp_vocabulary(dataframe):    \n",
    "    vocab = tokenize(dataframe)\n",
    "    print(\"Word List for Document \\n{0} \\n\".format(vocab));\n",
    "    \n",
    "    for i in dataframe['Data]':\n",
    "        words = word_extraction(dataframe,'Data',i)\n",
    "        bag_vector = numpy.zeros(len(vocab))\n",
    "            for w in words:\n",
    "                for i,word in enumerate(vocab):\n",
    "                    if word == w: \n",
    "                        bag_vector[i] += 1\n",
    "                    \n",
    "        print(\"{0}\\n{1}\\n\".format(sentence,numpy.array(bag_vector)))"
   ]
  },
  {
   "cell_type": "code",
   "execution_count": null,
   "metadata": {},
   "outputs": [],
   "source": [
    "#Next Steps\n",
    "#Make BoW model scalable, as well as deal with string processing error\n",
    "#Create a classifier that uses the vectorized data from BoW model\n",
    "#This will most likely rely on logistic regression\n",
    "#sklearn has tools to make this simpler\n",
    "\n",
    "#Data Processing Refinement\n",
    "##Work on processing data to separate by datapoints within strings as well\n",
    "    #This will make it easier to work with BoW"
   ]
  },
  {
   "cell_type": "code",
   "execution_count": null,
   "metadata": {},
   "outputs": [],
   "source": [
    "from sklearn.feature_extraction.text import CountVectorizer"
   ]
  },
  {
   "cell_type": "code",
   "execution_count": null,
   "metadata": {},
   "outputs": [],
   "source": [
    "#Does the work above in a more simple manner\n",
    "vectorizer = CountVectorizer()\n",
    "\n",
    "corpus = long_string\n",
    "X = vectorizer.fit_transform(corpus)\n",
    "print(vectorizer.get_feature_names())\n",
    "print(X.toarray())\n",
    "temp = np.array(X)\n",
    "np.set_printoptions(threshold = np.inf)"
   ]
  },
  {
   "cell_type": "code",
   "execution_count": null,
   "metadata": {},
   "outputs": [],
   "source": []
  },
  {
   "cell_type": "code",
   "execution_count": null,
   "metadata": {},
   "outputs": [],
   "source": []
  }
 ],
 "metadata": {
  "kernelspec": {
   "display_name": "Python 3",
   "language": "python",
   "name": "python3"
  },
  "language_info": {
   "codemirror_mode": {
    "name": "ipython",
    "version": 3
   },
   "file_extension": ".py",
   "mimetype": "text/x-python",
   "name": "python",
   "nbconvert_exporter": "python",
   "pygments_lexer": "ipython3",
   "version": "3.6.2"
  }
 },
 "nbformat": 4,
 "nbformat_minor": 2
}
