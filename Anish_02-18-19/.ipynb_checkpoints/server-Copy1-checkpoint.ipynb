{
 "cells": [
  {
   "cell_type": "code",
   "execution_count": null,
   "metadata": {
    "collapsed": true
   },
   "outputs": [],
   "source": [
    "from flask import Flask, redirect, request, render_template, url_for, send_from_directory, make_response\n",
    "from werkzeug.wrappers import Request, Response\n",
    "from werkzeug.serving import run_simple\n",
    "from jsonrpc import JSONRPCResponseManager, dispatcher\n",
    "import os\n",
    "import hashlib\n",
    "import pandas as pd\n",
    "from werkzeug.utils import secure_filename"
   ]
  },
  {
   "cell_type": "code",
   "execution_count": null,
   "metadata": {
    "collapsed": true
   },
   "outputs": [],
   "source": [
    "UPLOAD_FOLDER = '\\\\Datasets'\n",
    "ALLOWED_EXTENSIONS = set(['csv','txt', 'pdf', 'png', 'jpg', 'jpeg', 'gif'])\n",
    "\n",
    "app = Flask(__name__)\n",
    "app.config['UPLOAD_FOLDER'] = os.path.join(app.instance_path)"
   ]
  },
  {
   "cell_type": "code",
   "execution_count": null,
   "metadata": {
    "collapsed": true
   },
   "outputs": [],
   "source": [
    "def allowed_file(filename):\n",
    "    return '.' in filename and \\\n",
    "           filename.rsplit('.', 1)[1].lower() in ALLOWED_EXTENSIONS\n",
    "\n",
    "@app.route('/', methods=['GET','POST'])\n",
    "def upload_file():\n",
    "    if request.method == 'POST':\n",
    "        # check if the post request has the file part\n",
    "        if 'file' not in request.files:\n",
    "            flash('No file part')\n",
    "            return redirect(request.url)\n",
    "        file = request.files['file']\n",
    "        # if user does not select file, browser also\n",
    "        # submit an empty part without filename\n",
    "        if file.filename == '':\n",
    "            flash('No selected file')\n",
    "            return redirect(request.url)\n",
    "        if file and allowed_file(file.filename):\n",
    "            filename = secure_filename(file.filename)\n",
    "            df = pd.read_csv(file)\n",
    "            resp = make_response(df.to_csv())\n",
    "            resp.headers[\"Content-Disposition\"] = \"attachment; filename=export.csv\"\n",
    "            resp.headers[\"Content-Type\"] = \"text/csv\"\n",
    "            return resp  \n",
    "        #Doesn't need to save locally for now, can simply process and send for download.\n",
    "        #However need to figure out how to store processed file in temp location to enable redirecting.\n",
    "#             return redirect(url_for('uploaded_file',\n",
    "#                                     filename=filename)) \n",
    "    return '''\n",
    "    <!doctype html>\n",
    "    <title>Upload new File</title>\n",
    "    <h1>Upload new File (only CSV files accepted)</h1>\n",
    "    <form method=post enctype=multipart/form-data>\n",
    "      <input type=file name=file>\n",
    "      <input type=submit value=Upload>\n",
    "    </form>\n",
    "    '''\n",
    "# from flask import send_from_directory, send_file\n",
    "\n",
    "# @app.route('/uploads/<filename>')\n",
    "# def uploaded_file(filename):\n",
    "#     return send_from_directory(os.path.abspath(os.path.dirname(filename)+'.csv'), filename)\n",
    "if __name__ == '__main__':\n",
    "     run_simple('localhost', 9000, app)"
   ]
  },
  {
   "cell_type": "code",
   "execution_count": null,
   "metadata": {
    "collapsed": true
   },
   "outputs": [],
   "source": [
    "# # #getting our trained model from a file we created earlier\n",
    "# # model = pickle.load(open(\"tag_model\", \"rb\"))\n",
    "\n",
    "# #defining a /predict route for post requests\n",
    "# @app.route('/update', methods=['GET','POST'])\n",
    "# def upload():\n",
    "# #     #grab the untagged dataset from the request body\n",
    "# #     original_dataset = request.get_json()['input']\n",
    "    \n",
    "# #     #preparing a response object and storing our model's predictions\n",
    "# #     response = {}\n",
    "# #     response['predictions'] = model.predict(original_dataset).tolist()\n",
    "    \n",
    "# #     #returning the response object as json\n",
    "# #     return flask.jsonify(response)\n",
    "#     if request.method == 'POST' and 'photo' in request.files:\n",
    "#         file = request.files['photo']\n",
    "#         filename, extension = file.filename.rsplit('.', 1)\n",
    "#         file.filename = hashlib.md5(filename.encode('utf-8')).hexdigest() + '.' + extension\n",
    "#         filename = files.save(file)\n",
    "#         return redirect(url_for('uploaded_file', filename=filename))\n",
    "\n",
    "#     return render_template('upload.html')\n",
    "# @app.route('/uploads/<filename>')\n",
    "# def uploaded_file(filename):\n",
    "#     return send_from_directory(app.config['UPLOADED_PHOTOS_DEST'], filename)\n",
    "# if __name__ == '__main__':\n",
    "#     run_simple('localhost', 9000, app)"
   ]
  },
  {
   "cell_type": "code",
   "execution_count": null,
   "metadata": {
    "collapsed": true
   },
   "outputs": [],
   "source": []
  },
  {
   "cell_type": "code",
   "execution_count": null,
   "metadata": {
    "collapsed": true
   },
   "outputs": [],
   "source": []
  }
 ],
 "metadata": {
  "kernelspec": {
   "display_name": "Python 3",
   "language": "python",
   "name": "python3"
  },
  "language_info": {
   "codemirror_mode": {
    "name": "ipython",
    "version": 3
   },
   "file_extension": ".py",
   "mimetype": "text/x-python",
   "name": "python",
   "nbconvert_exporter": "python",
   "pygments_lexer": "ipython3",
   "version": "3.6.3"
  }
 },
 "nbformat": 4,
 "nbformat_minor": 2
}
