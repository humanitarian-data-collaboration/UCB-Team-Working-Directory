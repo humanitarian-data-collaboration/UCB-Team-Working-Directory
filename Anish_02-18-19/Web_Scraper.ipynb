{
 "cells": [
  {
   "cell_type": "code",
   "execution_count": null,
   "metadata": {},
   "outputs": [],
   "source": [
    "from hdx.utilities.easy_logging import setup_logging\n",
    "from hdx.hdx_configuration import Configuration\n",
    "from hdx.data.dataset import Dataset\n",
    "import numpy as np\n",
    "import pandas as pd"
   ]
  },
  {
   "cell_type": "code",
   "execution_count": null,
   "metadata": {},
   "outputs": [],
   "source": [
    "setup_logging()"
   ]
  },
  {
   "cell_type": "code",
   "execution_count": null,
   "metadata": {},
   "outputs": [],
   "source": [
    "Configuration.create(hdx_site='prod', user_agent='A_Quick_Example')"
   ]
  },
  {
   "cell_type": "code",
   "execution_count": null,
   "metadata": {},
   "outputs": [],
   "source": [
    "from hdx.facades.simple import facade"
   ]
  },
  {
   "cell_type": "code",
   "execution_count": null,
   "metadata": {},
   "outputs": [],
   "source": [
    "datasets = Dataset.get_all_dataset_names()\n",
    "print(len(datasets)) #Total number of datasets obtained using the API\n"
   ]
  },
  {
   "cell_type": "code",
   "execution_count": null,
   "metadata": {},
   "outputs": [],
   "source": [
    "datasets.index('burkina-faso-healthsites')"
   ]
  },
  {
   "cell_type": "code",
   "execution_count": null,
   "metadata": {},
   "outputs": [],
   "source": [
    "#Script to clean the datasets list and return the list of datasets that have at least 1\n",
    "#resource of the required file type(s).\n",
    "#Currently very naive and inefficient\n",
    "def clean(datasets, file_types=[]):\n",
    "    result = []\n",
    "    index = 0\n",
    "    while (index < len(datasets)):\n",
    "        temp_dataset = Dataset.read_from_hdx(datasets[index])\n",
    "        temp_dataset.separate_resources() #In order to use dataset.resources\n",
    "        if (len(temp_dataset.resources) > 0):\n",
    "            if (len(file_types) > 0):\n",
    "                if (not set(temp_dataset.get_filetypes()).isdisjoint(file_types)): #To check if elements of the 2 lists of file_types overlap.\n",
    "                    result.append(datasets[index])\n",
    "            else :\n",
    "                result.append(datasets[index])\n",
    "        index += 1\n",
    "    return result"
   ]
  },
  {
   "cell_type": "code",
   "execution_count": null,
   "metadata": {},
   "outputs": [],
   "source": [
    "datasets_clean = clean(datasets[0:10],file_types=['CSV'])\n",
    "print(datasets_clean)"
   ]
  },
  {
   "cell_type": "code",
   "execution_count": null,
   "metadata": {},
   "outputs": [],
   "source": [
    "def test_clean(datasets):\n",
    "    for i in datasets[0:10]:\n",
    "        print(Dataset.read_from_hdx(i).get_filetypes(),i)\n",
    "test_clean(datasets)"
   ]
  },
  {
   "cell_type": "code",
   "execution_count": null,
   "metadata": {},
   "outputs": [],
   "source": [
    "dataset_1 = Dataset.read_from_hdx(datasets[datasets.index('160523-ocha-4w-round-2')]) \n",
    "dataset_1.separate_resources() \n",
    "print(len(dataset_1.resources))\n",
    "print(dataset_1.get_filetypes()) \n",
    "print(dataset_1.resources[0].get_resource_views())"
   ]
  },
  {
   "cell_type": "code",
   "execution_count": null,
   "metadata": {},
   "outputs": [],
   "source": [
    "url, path = dataset_1.resources[0].download('Datasets') #Substitute Datasets with your file download path.\n",
    "print('Resource URL %s downloaded to %s' % (url, path))"
   ]
  },
  {
   "cell_type": "code",
   "execution_count": null,
   "metadata": {},
   "outputs": [],
   "source": [
    "pandas_dataset = pd.read_csv(path)\n",
    "pandas_dataset"
   ]
  },
  {
   "cell_type": "code",
   "execution_count": null,
   "metadata": {},
   "outputs": [],
   "source": [
    "pandas_dataset.head(5)"
   ]
  },
  {
   "cell_type": "code",
   "execution_count": null,
   "metadata": {},
   "outputs": [],
   "source": []
  }
 ],
 "metadata": {
  "kernelspec": {
   "display_name": "Python 3",
   "language": "python",
   "name": "python3"
  },
  "language_info": {
   "codemirror_mode": {
    "name": "ipython",
    "version": 3
   },
   "file_extension": ".py",
   "mimetype": "text/x-python",
   "name": "python",
   "nbconvert_exporter": "python",
   "pygments_lexer": "ipython3",
   "version": "3.6.5"
  }
 },
 "nbformat": 4,
 "nbformat_minor": 2
}
